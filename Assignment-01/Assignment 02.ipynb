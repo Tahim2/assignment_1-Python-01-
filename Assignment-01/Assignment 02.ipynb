{
 "cells": [
  {
   "cell_type": "markdown",
   "id": "6b65c59c",
   "metadata": {},
   "source": [
    "# Basic Python 01"
   ]
  },
  {
   "cell_type": "markdown",
   "id": "b18f0c53",
   "metadata": {},
   "source": [
    "## 1. Write a program that swaps the values of two variables."
   ]
  },
  {
   "cell_type": "code",
   "execution_count": 1,
   "id": "d61c77f3",
   "metadata": {},
   "outputs": [
    {
     "name": "stdout",
     "output_type": "stream",
     "text": [
      "4\n",
      "5\n",
      "5 4\n"
     ]
    }
   ],
   "source": [
    "x=int(input())\n",
    "y=int(input())\n",
    "temp = x\n",
    "x = y\n",
    "y = temp\n",
    "print(x, y)"
   ]
  },
  {
   "cell_type": "markdown",
   "id": "c2a241ca",
   "metadata": {},
   "source": [
    "## 2. Write a program that calculates the area of a rectangle given its length and width."
   ]
  },
  {
   "cell_type": "code",
   "execution_count": 4,
   "id": "dd6be7b8",
   "metadata": {},
   "outputs": [
    {
     "name": "stdout",
     "output_type": "stream",
     "text": [
      "height: 5\n",
      "width: 10\n",
      "50\n"
     ]
    }
   ],
   "source": [
    "x=int(input(\"height: \"))\n",
    "y=int(input(\"width: \"))\n",
    "area = x*y\n",
    "print(area)"
   ]
  },
  {
   "cell_type": "markdown",
   "id": "a81396bc",
   "metadata": {},
   "source": [
    "## 3. Write a program that converts temperature from Fahrenheit to Celsius."
   ]
  },
  {
   "cell_type": "code",
   "execution_count": null,
   "id": "57b4173d",
   "metadata": {},
   "outputs": [],
   "source": [
    "f = float(input(\"fahrenheit: \"))\n",
    "c = (f-32) * (5/9)\n",
    "print(\"Celsius: \",c)"
   ]
  },
  {
   "cell_type": "markdown",
   "id": "2e49c9be",
   "metadata": {},
   "source": [
    "## 4. Write a program that calculates the volume of a sphere given its radius."
   ]
  },
  {
   "cell_type": "code",
   "execution_count": 8,
   "id": "c3944385",
   "metadata": {},
   "outputs": [
    {
     "name": "stdout",
     "output_type": "stream",
     "text": [
      "radius: 4\n",
      "Volume of the sphere is:  268.082573106329\n"
     ]
    }
   ],
   "source": [
    "import math\n",
    "r=float(input(\"radius: \"))\n",
    "volume = (4/3) * (math.pi) * (r**3)\n",
    "print(\"Volume of the sphere is: \", volume)"
   ]
  },
  {
   "cell_type": "markdown",
   "id": "2b0d7895",
   "metadata": {},
   "source": [
    "## 5. Write a program that finds the average of three numbers."
   ]
  },
  {
   "cell_type": "code",
   "execution_count": 7,
   "id": "75e38cd6",
   "metadata": {},
   "outputs": [
    {
     "name": "stdout",
     "output_type": "stream",
     "text": [
      "1\n",
      "5\n",
      "7\n",
      "4.333333333333333\n"
     ]
    }
   ],
   "source": [
    "x=int(input())\n",
    "y=int(input())\n",
    "z=int(input())\n",
    "total =(x + y + z) \n",
    "avg = float(total/3)\n",
    "print(avg)"
   ]
  },
  {
   "cell_type": "markdown",
   "id": "01bc3847",
   "metadata": {},
   "source": [
    "## 6. Write a program that determines if a number is even or odd."
   ]
  },
  {
   "cell_type": "code",
   "execution_count": 11,
   "id": "3dea5cc4",
   "metadata": {},
   "outputs": [
    {
     "name": "stdout",
     "output_type": "stream",
     "text": [
      "Enter a number: 2\n",
      "2 Is an even number\n"
     ]
    }
   ],
   "source": [
    "x = int(input(\"Enter a number: \"))\n",
    "if(x%2==0):\n",
    "    print(x,\"Is an even number\")\n",
    "else:\n",
    "    print(x,\"Is an odd number\")"
   ]
  },
  {
   "cell_type": "markdown",
   "id": "0b2e9bf0",
   "metadata": {},
   "source": [
    "## 7. Write a program that finds the maximum of three numbers."
   ]
  },
  {
   "cell_type": "code",
   "execution_count": 17,
   "id": "4ca996f1",
   "metadata": {},
   "outputs": [
    {
     "name": "stdout",
     "output_type": "stream",
     "text": [
      "1 2 3\n",
      "3\n"
     ]
    }
   ],
   "source": [
    "x,y,z=input().split()\n",
    "print(max(x,y,z))"
   ]
  },
  {
   "cell_type": "markdown",
   "id": "f3492a28",
   "metadata": {},
   "source": [
    "## 8. Write a program that determines if a year is a leap year or not."
   ]
  },
  {
   "cell_type": "code",
   "execution_count": 4,
   "id": "7431d668",
   "metadata": {},
   "outputs": [
    {
     "name": "stdout",
     "output_type": "stream",
     "text": [
      "Enter a year: 2023\n",
      "2023 Is not a leap year\n"
     ]
    }
   ],
   "source": [
    "x=int(input(\"Enter a year: \"))\n",
    "if(x%4==0 and x%100 !=0) or (x%400==0):\n",
    "    print(x,\"Is a leap year\")\n",
    "else:\n",
    "    print(x,\"Is not a leap year\")"
   ]
  },
  {
   "cell_type": "markdown",
   "id": "9ef81730",
   "metadata": {},
   "source": [
    "## 9. Write a program that determines if a number is positive, negative, or zero."
   ]
  },
  {
   "cell_type": "code",
   "execution_count": 7,
   "id": "c98bd090",
   "metadata": {},
   "outputs": [
    {
     "name": "stdout",
     "output_type": "stream",
     "text": [
      "Enter a number: 4\n",
      "4 Is a positive number\n"
     ]
    }
   ],
   "source": [
    "x = int(input(\"Enter a number: \"))\n",
    "if x<0:\n",
    "    print(x,\"is a negative number\")\n",
    "elif x==0:\n",
    "    print(x,\"this is zero\")\n",
    "else:\n",
    "    print(x,\"Is a positive number\")"
   ]
  },
  {
   "cell_type": "markdown",
   "id": "9438082b",
   "metadata": {},
   "source": [
    "## 10. Write a program that calculates the grade based on a given percentage."
   ]
  },
  {
   "cell_type": "code",
   "execution_count": 9,
   "id": "fb66b88b",
   "metadata": {},
   "outputs": [
    {
     "name": "stdout",
     "output_type": "stream",
     "text": [
      "Enter percentage score: 70\n",
      "C\n"
     ]
    }
   ],
   "source": [
    "x = int(input(\"Enter percentage score: \"))\n",
    "while x>100 or x<0:\n",
    "        print(\"Please enter a valid mark\")\n",
    "        x = int(input())\n",
    "if x < 60:\n",
    " print(\"Grade: F\")\n",
    "elif x>= 60 and x<=69:\n",
    "    print(\"Grade: D\")\n",
    "elif x>= 70 and x<=79:\n",
    "    print(\"Grade: C\")\n",
    "elif x>= 80 and x<=89:\n",
    "    print(\"Grade: B\")\n",
    "elif x>= 90 and x<=100:\n",
    "    print(\"Grade: A\")\n",
    "\n",
    "\n"
   ]
  },
  {
   "cell_type": "markdown",
   "id": "12f34935",
   "metadata": {},
   "source": [
    "## 11. Write a program that prints the first `n` natural numbers."
   ]
  },
  {
   "cell_type": "code",
   "execution_count": 10,
   "id": "5862d718",
   "metadata": {},
   "outputs": [
    {
     "name": "stdout",
     "output_type": "stream",
     "text": [
      "5\n",
      "0\n",
      "1\n",
      "2\n",
      "3\n",
      "4\n",
      "5\n"
     ]
    }
   ],
   "source": [
    "n = int(input())\n",
    "for i in range(n+1):\n",
    "    print(i)"
   ]
  },
  {
   "cell_type": "markdown",
   "id": "8a4800a8",
   "metadata": {},
   "source": [
    "## 12. Write a program that calculates the factorial of a number."
   ]
  },
  {
   "cell_type": "code",
   "execution_count": 16,
   "id": "e652081b",
   "metadata": {},
   "outputs": [
    {
     "name": "stdout",
     "output_type": "stream",
     "text": [
      "Enter a number: 5\n",
      "120\n"
     ]
    }
   ],
   "source": [
    "x = int(input(\"Enter a number: \"))\n",
    "fact=1\n",
    "for i in range(1, x+1, 1):\n",
    "    fact *= i\n",
    "print(fact)"
   ]
  },
  {
   "cell_type": "markdown",
   "id": "c13d55a1",
   "metadata": {},
   "source": [
    "## 13. Write a program that generates a Fibonacci sequence of length `n`."
   ]
  },
  {
   "cell_type": "code",
   "execution_count": 20,
   "id": "928ca689",
   "metadata": {},
   "outputs": [
    {
     "name": "stdout",
     "output_type": "stream",
     "text": [
      "Enter how many numbers in the Fibonacci series: 5\n",
      "0 1 1 2 3 "
     ]
    }
   ],
   "source": [
    "n = int(input(\"Enter how many numbers in the Fibonacci series: \"))\n",
    "\n",
    "if n == 1:\n",
    "    print(\"0\")\n",
    "elif n == 2:\n",
    "    print(\"0 1\")\n",
    "else:\n",
    "    a, b = 0, 1\n",
    "    print(\"0 1\", end=\" \")\n",
    "    for i in range(2, n):\n",
    "        a, b = b, a + b\n",
    "        print(b, end=\" \")\n"
   ]
  },
  {
   "cell_type": "markdown",
   "id": "cd6c9a60",
   "metadata": {},
   "source": [
    "## 14. Write a program that checks if a given number is prime or not."
   ]
  },
  {
   "cell_type": "code",
   "execution_count": 22,
   "id": "8c705112",
   "metadata": {},
   "outputs": [
    {
     "name": "stdout",
     "output_type": "stream",
     "text": [
      "Enter a number: 7\n",
      "7 is a prime number\n"
     ]
    }
   ],
   "source": [
    "n = int(input(\"Enter a number: \"))\n",
    "bool = True\n",
    "if(n==1):\n",
    "  bool = False\n",
    "elif(n>1):\n",
    "  for i in range(2, n):\n",
    "    if(n%i ==0):\n",
    "      bool = False\n",
    "      break\n",
    "\n",
    "if bool:\n",
    "  print(n, \"is a prime number\")\n",
    "else:\n",
    "  print(n, \"is not prime number\")\n",
    "\n"
   ]
  },
  {
   "cell_type": "markdown",
   "id": "4e8e535e",
   "metadata": {},
   "source": [
    "## 15. Write a program that prints the multiplication table of a given number."
   ]
  },
  {
   "cell_type": "code",
   "execution_count": 23,
   "id": "c413e3f2",
   "metadata": {},
   "outputs": [
    {
     "name": "stdout",
     "output_type": "stream",
     "text": [
      "Enter a number: 7\n",
      "Multiplication Table for 7\n",
      "7 X 0 = 0\n",
      "7 X 1 = 7\n",
      "7 X 2 = 14\n",
      "7 X 3 = 21\n",
      "7 X 4 = 28\n",
      "7 X 5 = 35\n",
      "7 X 6 = 42\n",
      "7 X 7 = 49\n",
      "7 X 8 = 56\n",
      "7 X 9 = 63\n",
      "7 X 10 = 70\n"
     ]
    }
   ],
   "source": [
    "n = int(input(\"Enter a number: \"))\n",
    "\n",
    "print(\"Multiplication Table for\", n)\n",
    "for i in range(11):\n",
    "  print(n,\"X\",i,\"=\", n*i)\n"
   ]
  },
  {
   "cell_type": "markdown",
   "id": "bba9d285",
   "metadata": {},
   "source": [
    "## 16. Write a program that finds the sum of all even numbers between 1 and `n`."
   ]
  },
  {
   "cell_type": "code",
   "execution_count": 4,
   "id": "1ce4a50f",
   "metadata": {},
   "outputs": [
    {
     "name": "stdout",
     "output_type": "stream",
     "text": [
      "5\n",
      "15\n"
     ]
    }
   ],
   "source": [
    "n = int(input())\n",
    "total =0\n",
    "i=1\n",
    "while i<=n:\n",
    "    total +=i\n",
    "    i+=1\n",
    "    \n",
    "print(total)"
   ]
  },
  {
   "cell_type": "markdown",
   "id": "be17e90a",
   "metadata": {},
   "source": [
    "## 17. Write a program that reverses a given number."
   ]
  },
  {
   "cell_type": "code",
   "execution_count": 2,
   "id": "d72c2a77",
   "metadata": {},
   "outputs": [
    {
     "name": "stdout",
     "output_type": "stream",
     "text": [
      "1234\n",
      "4321"
     ]
    }
   ],
   "source": [
    "n = input()\n",
    "i=len(n)-1\n",
    "while i>=0:\n",
    "    print(n[i], end=\"\")\n",
    "    i -= 1\n"
   ]
  },
  {
   "cell_type": "markdown",
   "id": "f31bc714",
   "metadata": {},
   "source": [
    "## 18. Write a program that checks if a given string, is a palindrome."
   ]
  },
  {
   "cell_type": "code",
   "execution_count": 9,
   "id": "c274685d",
   "metadata": {},
   "outputs": [
    {
     "name": "stdout",
     "output_type": "stream",
     "text": [
      "Enter a string: paap\n",
      "paap\n",
      "The string is a palindrome\n"
     ]
    }
   ],
   "source": [
    "string = input(\"Enter a string: \")\n",
    "reversed_string = string[::-1]\n",
    "print(reversed_string)\n",
    "\n",
    "if string == reversed_string:\n",
    "    print(\"The string is a palindrome\")\n",
    "else:\n",
    "    print(\"The string is not a palindrome\")\n",
    "\n"
   ]
  },
  {
   "cell_type": "markdown",
   "id": "00b19fab",
   "metadata": {},
   "source": [
    "## 19. Write a program that generates a random number and allows the user to guess it."
   ]
  },
  {
   "cell_type": "code",
   "execution_count": 19,
   "id": "1e5b9bbb",
   "metadata": {},
   "outputs": [
    {
     "name": "stdout",
     "output_type": "stream",
     "text": [
      "Guess a number: 78\n",
      "The random number is:  60\n",
      "Opppps! you've guessed a wrong number\n"
     ]
    }
   ],
   "source": [
    "import random\n",
    "x = int(input(\"Guess a number: \"))\n",
    "n=random.randint(1,100)\n",
    "print(\"The random number is: \", n)\n",
    "if(x == n):\n",
    "    print(\"Congratulations, You've gussed the correct number\")\n",
    "else:\n",
    "    print(\"Opppps! you've guessed a wrong number\")"
   ]
  },
  {
   "cell_type": "markdown",
   "id": "df0ec3b3",
   "metadata": {},
   "source": [
    "## 20. Write a program that finds the greatest common divisor (GCD) of two numbers."
   ]
  },
  {
   "cell_type": "code",
   "execution_count": 1,
   "id": "5fabf502",
   "metadata": {},
   "outputs": [
    {
     "name": "stdout",
     "output_type": "stream",
     "text": [
      "60\n",
      "48\n",
      "The gcd of 60  and  48 is : 12\n"
     ]
    }
   ],
   "source": [
    "import math\n",
    "\n",
    "a = int(input())\n",
    "b = int(input())\n",
    "\n",
    "print(\"The gcd of\", a,\" and \", b ,\"is : \", end=\"\")\n",
    "print(math.gcd(a, b))"
   ]
  },
  {
   "cell_type": "code",
   "execution_count": null,
   "id": "d5e3d347",
   "metadata": {},
   "outputs": [],
   "source": []
  }
 ],
 "metadata": {
  "kernelspec": {
   "display_name": "Python 3 (ipykernel)",
   "language": "python",
   "name": "python3"
  },
  "language_info": {
   "codemirror_mode": {
    "name": "ipython",
    "version": 3
   },
   "file_extension": ".py",
   "mimetype": "text/x-python",
   "name": "python",
   "nbconvert_exporter": "python",
   "pygments_lexer": "ipython3",
   "version": "3.11.5"
  }
 },
 "nbformat": 4,
 "nbformat_minor": 5
}
